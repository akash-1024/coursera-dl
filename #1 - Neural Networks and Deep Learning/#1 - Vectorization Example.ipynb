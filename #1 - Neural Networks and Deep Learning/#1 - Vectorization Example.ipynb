{
 "cells": [
  {
   "cell_type": "code",
   "execution_count": 1,
   "metadata": {},
   "outputs": [],
   "source": [
    "import numpy as np\n",
    "import time"
   ]
  },
  {
   "cell_type": "markdown",
   "metadata": {},
   "source": []
  },
  {
   "cell_type": "code",
   "execution_count": 4,
   "metadata": {},
   "outputs": [],
   "source": [
    "x1 = np.random.rand(1000000)\n",
    "x2 = np.random.rand(1000000)"
   ]
  },
  {
   "cell_type": "markdown",
   "metadata": {},
   "source": [
    "**Without vectorization (using for loop)**"
   ]
  },
  {
   "cell_type": "code",
   "execution_count": 13,
   "metadata": {},
   "outputs": [
    {
     "name": "stdout",
     "output_type": "stream",
     "text": [
      "Output: 250199.72215862255\n",
      "Time without vectorization: 437.894344329834ms\n"
     ]
    }
   ],
   "source": [
    "res = 0\n",
    "\n",
    "start = time.time()\n",
    "\n",
    "for i in range(1000000):\n",
    "    res += x1[i]*x2[i]\n",
    "\n",
    "end = time.time()\n",
    "\n",
    "print(\"Output: \" + str(res))\n",
    "print(\"Time without vectorization: \" + str(1000*(end-start)) + \"ms\")"
   ]
  },
  {
   "cell_type": "markdown",
   "metadata": {},
   "source": [
    "**With vectorization**"
   ]
  },
  {
   "cell_type": "code",
   "execution_count": 18,
   "metadata": {},
   "outputs": [
    {
     "name": "stdout",
     "output_type": "stream",
     "text": [
      "Output: 2500127.270760471\n",
      "Time without vectorization: 20.733118057250977ms\n"
     ]
    }
   ],
   "source": [
    "res = 0\n",
    "\n",
    "start = time.time()\n",
    "\n",
    "res = np.dot(x1, x2)\n",
    "\n",
    "end = time.time()\n",
    "\n",
    "print(\"Output: \" + str(res))\n",
    "print(\"Time without vectorization: \" + str(1000*(end-start)) + \"ms\")"
   ]
  },
  {
   "cell_type": "code",
   "execution_count": null,
   "metadata": {},
   "outputs": [],
   "source": []
  },
  {
   "cell_type": "code",
   "execution_count": null,
   "metadata": {},
   "outputs": [],
   "source": []
  }
 ],
 "metadata": {
  "kernelspec": {
   "display_name": "Python 3",
   "language": "python",
   "name": "python3"
  },
  "language_info": {
   "codemirror_mode": {
    "name": "ipython",
    "version": 3
   },
   "file_extension": ".py",
   "mimetype": "text/x-python",
   "name": "python",
   "nbconvert_exporter": "python",
   "pygments_lexer": "ipython3",
   "version": "3.6.4"
  }
 },
 "nbformat": 4,
 "nbformat_minor": 2
}
